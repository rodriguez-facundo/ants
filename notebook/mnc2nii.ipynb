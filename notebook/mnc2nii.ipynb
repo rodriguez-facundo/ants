{
 "cells": [
  {
   "cell_type": "code",
   "execution_count": 1,
   "metadata": {},
   "outputs": [],
   "source": [
    "import os\n",
    "import numpy as np\n",
    "from nibabel import load, save, Nifti1Image\n",
    "\n",
    "if len(os.sys.argv) != 3:\n",
    "    os.sys.exit('[USAGE]: minc_to_nifti.py input.mnc output.nii.gz')\n",
    "\n",
    "minc_name = os.sys.argv[1]\n",
    "nii_name = os.sys.argv[2]\n",
    "\n",
    "save(\n",
    "    Nifti1Image(\n",
    "        load(minc_name).get_data(), \n",
    "        affine=np.identity(4)\n",
    "    ), \n",
    "    nii_name\n",
    ")"
   ]
  }
 ],
 "metadata": {
  "kernelspec": {
   "display_name": "Python 3",
   "language": "python",
   "name": "python3"
  },
  "language_info": {
   "codemirror_mode": {
    "name": "ipython",
    "version": 3
   },
   "file_extension": ".py",
   "mimetype": "text/x-python",
   "name": "python",
   "nbconvert_exporter": "python",
   "pygments_lexer": "ipython3",
   "version": "3.7.3"
  }
 },
 "nbformat": 4,
 "nbformat_minor": 2
}
